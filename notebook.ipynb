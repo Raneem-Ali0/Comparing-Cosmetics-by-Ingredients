{
  "cells": [
    {
      "cell_type": "markdown",
      "metadata": {
        "id": "view-in-github",
        "colab_type": "text"
      },
      "source": [
        "<a href=\"https://colab.research.google.com/github/Raneem-Ali0/Comparing-Cosmetics-by-Ingredients/blob/main/notebook.ipynb\" target=\"_parent\"><img src=\"https://colab.research.google.com/assets/colab-badge.svg\" alt=\"Open In Colab\"/></a>"
      ]
    },
    {
      "metadata": {
        "dc": {
          "key": "4"
        },
        "deletable": false,
        "editable": false,
        "run_control": {
          "frozen": true
        },
        "tags": [
          "context"
        ],
        "id": "McaWIUYaNHC2"
      },
      "cell_type": "markdown",
      "source": [
        "## 1. Cosmetics, chemicals... it's complicated\n",
        "<p>Whenever I want to try a new cosmetic item, it's so difficult to choose. It's actually more than difficult. It's sometimes scary because new items that I've never tried end up giving me skin trouble. We know the information we need is on the back of each product, but it's really hard to interpret those ingredient lists unless you're a chemist. You may be able to relate to this situation.</p>\n",
        "<p><img src=\"https://assets.datacamp.com/production/project_695/img/image_1.png\" style=\"width:600px;height:400px;\"></p>\n",
        "<p>So instead of buying and hoping for the best, why don't we use data science to help us predict which products may be good fits for us? In this notebook, we are going to create a content-based recommendation system where the 'content' will be the chemical components of cosmetics. Specifically, we will process ingredient lists for 1472 cosmetics on Sephora via <a href=\"https://en.wikipedia.org/wiki/Word_embedding\">word embedding</a>, then visualize ingredient similarity using a machine learning method called t-SNE and an interactive visualization library called Bokeh. Let's inspect our data first.</p>"
      ]
    },
    {
      "metadata": {
        "dc": {
          "key": "4"
        },
        "tags": [
          "sample_code"
        ],
        "trusted": true,
        "id": "wXtkMWj_NHC-",
        "outputId": "294d2fe5-9f24-42fe-b170-8f9498e1fb2e"
      },
      "cell_type": "code",
      "source": [
        "# Import libraries\n",
        "# ... YOUR CODE FOR TASK 1 ...\n",
        "import pandas as pd \n",
        "import numpy as np\n",
        "from sklearn.manifold import TSNE\n",
        "# Load the data\n",
        "df = pd.read_csv(\"datasets/cosmetics.csv\")\n",
        "\n",
        "# Check the first five rows \n",
        "# ... YOUR CODE FOR TASK 1 ...\n",
        "display(df.sample())\n",
        "# Inspect the types of products\n",
        "df.Label.value_counts()"
      ],
      "execution_count": null,
      "outputs": [
        {
          "output_type": "display_data",
          "data": {
            "text/plain": "           Label   Brand                                        Name  Price  \\\n193  Moisturizer  KORRES  Wild Rose Vitamin C Active Brightening Oil     54   \n\n     Rank                                        Ingredients  Combination  \\\n193   4.4  Isoamyl Laurate, Caprylic/Capric Triglyceride,...            1   \n\n     Dry  Normal  Oily  Sensitive  \n193    1       1     1          1  ",
            "text/html": "<div>\n<style scoped>\n    .dataframe tbody tr th:only-of-type {\n        vertical-align: middle;\n    }\n\n    .dataframe tbody tr th {\n        vertical-align: top;\n    }\n\n    .dataframe thead th {\n        text-align: right;\n    }\n</style>\n<table border=\"1\" class=\"dataframe\">\n  <thead>\n    <tr style=\"text-align: right;\">\n      <th></th>\n      <th>Label</th>\n      <th>Brand</th>\n      <th>Name</th>\n      <th>Price</th>\n      <th>Rank</th>\n      <th>Ingredients</th>\n      <th>Combination</th>\n      <th>Dry</th>\n      <th>Normal</th>\n      <th>Oily</th>\n      <th>Sensitive</th>\n    </tr>\n  </thead>\n  <tbody>\n    <tr>\n      <th>193</th>\n      <td>Moisturizer</td>\n      <td>KORRES</td>\n      <td>Wild Rose Vitamin C Active Brightening Oil</td>\n      <td>54</td>\n      <td>4.4</td>\n      <td>Isoamyl Laurate, Caprylic/Capric Triglyceride,...</td>\n      <td>1</td>\n      <td>1</td>\n      <td>1</td>\n      <td>1</td>\n      <td>1</td>\n    </tr>\n  </tbody>\n</table>\n</div>"
          },
          "metadata": {}
        },
        {
          "output_type": "execute_result",
          "execution_count": 195,
          "data": {
            "text/plain": "Moisturizer    298\nCleanser       281\nFace Mask      266\nTreatment      248\nEye cream      209\nSun protect    170\nName: Label, dtype: int64"
          },
          "metadata": {}
        }
      ]
    },
    {
      "metadata": {
        "dc": {
          "key": "12"
        },
        "deletable": false,
        "editable": false,
        "run_control": {
          "frozen": true
        },
        "tags": [
          "context"
        ],
        "id": "_ykf8vZKNHDC"
      },
      "cell_type": "markdown",
      "source": [
        "## 2. Focus on one product category and one skin type\n",
        "<p>There are six categories of product in our data (<strong><em>moisturizers, cleansers, face masks, eye creams</em></strong>, and <strong><em>sun protection</em></strong>) and there are five different skin types (<strong><em>combination, dry, normal, oily</em></strong> and <strong><em>sensitive</em></strong>). Because individuals have different product needs as well as different skin types, let's set up our workflow so its outputs (a t-SNE model and a visualization of that model) can be customized. For the example in this notebook, let's focus in on moisturizers for those with dry skin by filtering the data accordingly.</p>"
      ]
    },
    {
      "metadata": {
        "dc": {
          "key": "12"
        },
        "tags": [
          "sample_code"
        ],
        "trusted": true,
        "collapsed": true,
        "id": "OPf4V-YLNHDD"
      },
      "cell_type": "code",
      "source": [
        "# Filter for moisturizers\n",
        "moisturizers = df[df['Label']== 'Moisturizer']\n",
        "\n",
        "# Filter for dry skin as well\n",
        "moisturizers_dry = moisturizers[moisturizers['Dry']== 1]\n",
        "\n",
        "# Reset index\n",
        "moisturizers_dry = moisturizers_dry.reset_index(drop = True)"
      ],
      "execution_count": null,
      "outputs": []
    },
    {
      "metadata": {
        "dc": {
          "key": "19"
        },
        "deletable": false,
        "editable": false,
        "run_control": {
          "frozen": true
        },
        "tags": [
          "context"
        ],
        "id": "v_2OAKfXNHDE"
      },
      "cell_type": "markdown",
      "source": [
        "## 3. Tokenizing the ingredients\n",
        "<p>To get to our end goal of comparing ingredients in each product, we first need to do some preprocessing tasks and bookkeeping of the actual words in each product's ingredients list. The first step will be tokenizing the list of ingredients in <code>Ingredients</code> column. After splitting them into tokens, we'll make a binary bag of words. Then we will create a dictionary with the tokens, <code>ingredient_idx</code>, which will have the following format:</p>\n",
        "<p>{ <strong><em>\"ingredient\"</em></strong>: index value, … }</p>"
      ]
    },
    {
      "metadata": {
        "dc": {
          "key": "19"
        },
        "tags": [
          "sample_code"
        ],
        "trusted": true,
        "id": "_8G-NW9iNHDF",
        "outputId": "13542de5-4241-4d0c-bdcc-404af4bc4284"
      },
      "cell_type": "code",
      "source": [
        "ingredient_idx = {}\n",
        "corpus = []\n",
        "idx = 0 \n",
        "\n",
        "# For loop for tokenization \n",
        "for i in range(len(moisturizers_dry)):    \n",
        "    ingredients = moisturizers_dry['Ingredients'][i]\n",
        "    ingredients_lower = ingredients.lower()\n",
        "    tokens = ingredients_lower.split(', ')\n",
        "    corpus.append(tokens)\n",
        "    for ingredient in tokens:\n",
        "        if ingredient not in ingredient_idx:\n",
        "            ingredient_idx[ingredient] = idx\n",
        "            idx += 1\n",
        "            \n",
        "# Check the result \n",
        "print(\"The index for decyl oleate is\", ingredient_idx['decyl oleate'])"
      ],
      "execution_count": null,
      "outputs": [
        {
          "output_type": "stream",
          "text": "The index for decyl oleate is 25\n",
          "name": "stdout"
        }
      ]
    },
    {
      "metadata": {
        "dc": {
          "key": "26"
        },
        "deletable": false,
        "editable": false,
        "run_control": {
          "frozen": true
        },
        "tags": [
          "context"
        ],
        "id": "Bc6ojhuUNHDG"
      },
      "cell_type": "markdown",
      "source": [
        "## 4. Initializing a document-term matrix (DTM)\n",
        "<p>The next step is making a document-term matrix (DTM). Here each cosmetic product will correspond to a document, and each chemical composition will correspond to a term. This means we can think of the matrix as a <em>“cosmetic-ingredient”</em> matrix. The size of the matrix should be as the picture shown below.\n",
        "<img src=\"https://assets.datacamp.com/production/project_695/img/image_2.PNG\" style=\"width:600px;height:250px;\">\n",
        "To create this matrix, we'll first make an empty matrix filled with zeros. The length of the matrix is the total number of cosmetic products in the data. The width of the matrix is the total number of ingredients. After initializing this empty matrix, we'll fill it in the following tasks. </p>"
      ]
    },
    {
      "metadata": {
        "dc": {
          "key": "26"
        },
        "trusted": true,
        "id": "6_RzHzM5NHDH",
        "outputId": "8dc29624-1029-43c3-9497-afa4c359b3d8"
      },
      "cell_type": "code",
      "source": [
        "ingredient_idx"
      ],
      "execution_count": null,
      "outputs": [
        {
          "output_type": "execute_result",
          "execution_count": 201,
          "data": {
            "text/plain": "{'algae (seaweed) extract': 0,\n 'mineral oil': 1,\n 'petrolatum': 2,\n 'glycerin': 3,\n 'isohexadecane': 4,\n 'microcrystalline wax': 5,\n 'lanolin alcohol': 6,\n 'citrus aurantifolia (lime) extract': 7,\n 'sesamum indicum (sesame) seed oil': 8,\n 'eucalyptus globulus (eucalyptus) leaf oil': 9,\n 'sesamum indicum (sesame) seed powder': 10,\n 'medicago sativa (alfalfa) seed powder': 11,\n 'helianthus annuus (sunflower) seedcake': 12,\n 'prunus amygdalus dulcis (sweet almond) seed meal': 13,\n 'sodium gluconate': 14,\n 'copper gluconate': 15,\n 'calcium gluconate': 16,\n 'magnesium gluconate': 17,\n 'zinc gluconate': 18,\n 'magnesium sulfate': 19,\n 'paraffin': 20,\n 'tocopheryl succinate': 21,\n 'niacin': 22,\n 'water': 23,\n 'beta-carotene': 24,\n 'decyl oleate': 25,\n 'aluminum distearate': 26,\n 'octyldodecanol': 27,\n 'citric acid': 28,\n 'cyanocobalamin': 29,\n 'magnesium stearate': 30,\n 'panthenol': 31,\n 'limonene': 32,\n 'geraniol': 33,\n 'linalool': 34,\n 'hydroxycitronellal': 35,\n 'citronellol': 36,\n 'benzyl salicylate': 37,\n 'citral': 38,\n 'sodium benzoate': 39,\n 'alcohol denat.': 40,\n 'fragrance.': 41,\n 'galactomyces ferment filtrate (pitera)': 42,\n 'butylene glycol': 43,\n 'pentylene glycol': 44,\n 'methylparaben': 45,\n 'sorbic acid.': 46,\n 'dicaprylyl carbonate': 47,\n 'cetearyl alcohol': 48,\n 'cetearyl olivate': 49,\n 'sorbitan olivate': 50,\n 'sclerocarya birrea seed oil': 51,\n 'bacillus/soybean/ folic acid ferment extract': 52,\n 'nymphaea alba root extract': 53,\n 'sh-oligopeptide-1': 54,\n 'sh-oligopeptide-2': 55,\n 'sh-polypeptide-1': 56,\n 'sh-polypeptide-9': 57,\n 'sh-polypeptide-11': 58,\n 'copper palmitoyl heptapeptide-14': 59,\n 'heptapeptide-15 palmitate': 60,\n 'palmitoyl tetrapeptide-7': 61,\n 'palmitoyl tripeptide-1': 62,\n 'alanine': 63,\n 'arginine': 64,\n 'glycine': 65,\n 'histidine': 66,\n 'isoleucine': 67,\n 'phenylalanine': 68,\n 'proline': 69,\n 'serine': 70,\n 'threonine': 71,\n 'valine': 72,\n 'acetyl glutamine': 73,\n 'coconut alkanes ': 74,\n 'coco-caprylate/caprate': 75,\n 'sodium hyaluronate': 76,\n 'aspartic acid': 77,\n 'linoleic acid': 78,\n 'linolenic acid': 79,\n 'lecithin': 80,\n 'polyvinyl alcohol': 81,\n 'sodium lactate': 82,\n 'sodium pca': 83,\n 'pca': 84,\n 'sorbitan isostearate': 85,\n 'carbomer': 86,\n 'polysorbate 20': 87,\n 'polysorbate 60': 88,\n 'lactic acid/glycolic acid copolymer': 89,\n 'hydroxyethyl acrylate/sodium acryloyldimethyl taurate copolymer': 90,\n 'xanthan gum': 91,\n 'isomalt': 92,\n '1,2-hexanediol': 93,\n 'caprylyl glycol': 94,\n 'chlorphenesin': 95,\n 'phenoxyethanol': 96,\n 'tocopherol': 97,\n 'phenylpropanol': 98,\n 'glyceryl caprylate': 99,\n 'symphytum officinale callus culture extract.': 100,\n 'cyclopentasiloxane': 101,\n 'glyceryl distearate': 102,\n 'phenyl trimethicone': 103,\n 'hydrogenated vegetable oil': 104,\n 'cholesterol': 105,\n 'butyrospermum parkii (shea butter)': 106,\n 'steareth-10': 107,\n 'dimethicone': 108,\n 'glyceryl stearate se': 109,\n 'polysilicone-11': 110,\n 'citrus aurantifolia (lime) peel extract': 111,\n 'laminaria digitata extract': 112,\n 'crithmum maritimum extract': 113,\n 'salicornia herbacea extract': 114,\n 'plankton extract': 115,\n 'chlorella vulgaris extract': 116,\n 'glycine soja (soybean) seed extract': 117,\n 'caffeine': 118,\n 'sea salt/maris sal/sel marin': 119,\n 'micrococcus lysate': 120,\n 'diethylhexyl succinate': 121,\n 'adenosine phosphate': 122,\n 'creatine': 123,\n 'hydrolyzed algin': 124,\n 'isocetyl stearoyl stearate': 125,\n 'cetyl alcohol': 126,\n 'sucrose': 127,\n 'acetyl hexapeptide-8': 128,\n 'glucose oxidase': 129,\n 'polyacrylamide': 130,\n 'acetyl carnitine hcl': 131,\n 'glucose': 132,\n 'caprylic/capric triglyceride': 133,\n 'c13-14 isoparaffin': 134,\n 'tocopheryl acetate': 135,\n 'tetrahexyldecyl ascorbate': 136,\n 'glycosaminoglycans': 137,\n 'urea': 138,\n 'distearyldimonium chloride': 139,\n 'dipalmitoyl hydroxyproline': 140,\n 'laureth-7': 141,\n 'trehalose': 142,\n 'polyquaternium-51': 143,\n 'lactoperoxidase': 144,\n 'hydroxypropyl cyclodextrin': 145,\n 'fragrance': 146,\n 'disodium edta': 147,\n 'bht': 148,\n 'potassium sorbate': 149,\n 'snail secretion filtrate': 150,\n 'butylene glycol dicaprylate/dicaprate': 151,\n 'orbignya oleifera seed oil': 152,\n 'butyloctyl salicylate': 153,\n 'cetyl peg/ppg-10/1 dimethicone': 154,\n 'cyclohexasiloxane': 155,\n 'polyglyceryl-4 isostearate': 156,\n 'dimethicone/vinyl dimethicone crosspolymer': 157,\n 'aluminum hydroxide': 158,\n 'hexyl laurate': 159,\n 'stearic acid': 160,\n 'calcium stearate': 161,\n 'triethoxycaprylylsilane': 162,\n 'ethylhexylglycerin': 163,\n 'citrus medica limonum (lemon) peel oil': 164,\n 'citrus aurantium bergamia (bergamot) fruit oil': 165,\n 'citrus aurantium dulcis (orange) peel oil': 166,\n 'citrus aurantifolia (lime) oil': 167,\n 'vitis vinifera (grape) seed oil': 168,\n 'punica granatum seed oil': 169,\n 'pinus sylvestris leaf oil': 170,\n 'persea gratissima (avocado) oil': 171,\n 'niacinamide': 172,\n 'citrus grandis (grapefruit) peel oil': 173,\n 'anthemis nobilis flower water': 174,\n 'lactobacillus/honeysuckle flower/licorice root/morus alba root/pueraria lobata root/schizandra chinensis fruit/scutellaria baicalensis root/sophora japonica flower extract ferment filtrate': 175,\n 'perfluorohexane': 176,\n 'olea europaea (olive) leaf extract': 177,\n 'eucalyptus globulus leaf oil': 178,\n 'camellia sinensis leaf extract': 179,\n 'chrysanthemum indicum flower extract': 180,\n 'pueraria lobata root extract': 181,\n 'perfluorodecalin': 182,\n 'morus alba fruit extract': 183,\n 'magnolia kobus bark extract': 184,\n 'glycine soja (soybean) sprout extract': 185,\n 'diospyros kaki leaf extract': 186,\n 'cinnamomum cassia bark extract': 187,\n 'artemisia princeps leaf extract': 188,\n 'pentafluoropropane': 189,\n 'curcuma longa (turmeric) root extract': 190,\n 'steareth-20': 191,\n 'hydrolyzed hyaluronic acid': 192,\n 'colloidal oatmeal': 193,\n 'hydrolyzed silk': 194,\n 'aloe barbadensis leaf extract': 195,\n 'n-hydroxysuccinimide': 196,\n 'hydrolyzed collagen': 197,\n 'caprylhydroxamic acid': 198,\n 'thiamine hcl': 199,\n 'riboflavin': 200,\n 'retinyl palmitate': 201,\n 'pantothenic acid': 202,\n 'palmitoyl oligopeptide': 203,\n 'folic acid': 204,\n 'chrysin': 205,\n 'carnitine hcl': 206,\n 'biotin': 207,\n 'ascorbic acid': 208,\n 'chlorhexidine digluconate. may contain: iron oxides (ci 77492': 209,\n 'ci 77491': 210,\n 'ci 77499).': 211,\n 'caprylic/ capric triglyceride': 212,\n 'isopropyl isostearate': 213,\n 'pseudozyma epicola/camellia sinensis seed oil/glucose/glycine soja meal/malt extract/yeast extract ferment filtrate (pseudozyma epicola/camellia sinensis seed oil/glucose/yeast extract ferment filtrate)': 214,\n 'plantago lanceolata leaf extract': 215,\n 'adansonia digitata seed oil': 216,\n 'citrullus lanatus (watermelon) seed oil': 217,\n 'passiflora edulis seed oil': 218,\n 'schinziophyton rautanenii kernel oil': 219,\n 'polyglyceryl-6 ximenia americana seedate': 220,\n 'sodium hyaluronate crosspolymer': 221,\n 'ceteareth-20': 222,\n 'trisodium ethylenediamine disuccinate': 223,\n 'sodium hydroxide': 224,\n 'ethylhexylglycerin.': 225,\n '100% unrefined sclerocraya birrea (marula) kernel oil.': 226,\n 'squalane': 227,\n 'bis-peg-18 methyl ether dimethyl silane': 228,\n 'sucrose stearate': 229,\n 'stearyl alcohol': 230,\n 'peg-8 stearate': 231,\n 'myristyl myristate': 232,\n 'pentaerythrityl tetraethylhexanoate': 233,\n 'prunus armeniaca kernel oil': 234,\n 'persea gratissima oil': 235,\n 'olea europaea oil': 236,\n 'oryza sativa bran oil': 237,\n 'glyceryl stearate': 238,\n 'imperata cylindrica root extract': 239,\n 'palmitic acid': 240,\n 'acrylates/c10-30 alkyl acrylate crosspolymer': 241,\n 'propylparaben': 242,\n 'triethanolamine': 243,\n 'prunus amygdalus dulcis oil': 244,\n 'pseudoalteromonas ferment extract': 245,\n 'hydroxypalmitoyl sphinganine': 246,\n 'caprylyl glycol.': 247,\n 'caprylic/capric triglyceride dicaprylyl carbonate squalane rosa canina fruit oil oenothera biennis oil': 248,\n 'evening primrose oil simmondsia chinensis oil': 249,\n 'jojoba seed oil coriandrum sativum oil': 250,\n 'coriander seed oil tocopherol lavandula angustifolia oil': 251,\n 'lavender oil pelargonium graveolens flower oil linalool rosmarinus officinalis leaf oil': 252,\n 'rosemary leaf oil citronellol geraniol lavandula hybrida oil cucumis sativus extract': 253,\n 'cucumber fruit extract curcuma longa extract': 254,\n 'turmeric root extract limonene citral sclareolide rosa spp': 255,\n 'rose flower oil jasminum officinale extract': 256,\n 'jasmine extract helianthus annuus seed oil': 257,\n 'sunflower seed oil.': 258,\n 'persea gratissima (extra virgin': 259,\n 'cold pressed avocado) oil': 260,\n 'vitis vinifera (organic': 261,\n 'cold pressed concord grape) seed oil': 262,\n 'rubus fruticosus (cold pressed blackberry) seed oil': 263,\n 'salvia hispanica (cold pressed chia) oil': 264,\n 'dimethyl isosorbide (and) hydroxypinacolone retinoate': 265,\n 'chamomilla recutita (matricaria) flower oil': 266,\n 'tanecetum annuum (blue tansy) oil': 267,\n 'anthemis nobilis (english chamomile) oil': 268,\n 'eriocephalus punctulatus (cape chamomile) oil': 269,\n 'citrus aurantium amara (neroli) oil': 270,\n 'citrus aurantium dulcis (blood orange) oil': 271,\n 'cananga odorata flower (ylang ylang) oil': 272,\n 'vetivera zizanoides (vetiver) oil': 273,\n 'helianthus annuus (sunflower) seed oil (and) rosmarinus officinalis (rosemary) leaf extract': 274,\n 'ci 61565 (green 6)': 275,\n 'ci 60725 (violet 2).': 276,\n 'lactic acid': 277,\n 'propanediol': 278,\n 'jojoba esters': 279,\n 'glycolic acid': 280,\n 'potassium hydroxide': 281,\n 'salix alba (willow) bark extract': 282,\n 'carthamus tinctorius (safflower) oleosomes': 283,\n 'hibiscus sabdariffa flower extract': 284,\n 'honey extract': 285,\n 'echinacea purpurea root extract': 286,\n 'propolis extract': 287,\n 'royal jelly extract': 288,\n 'hydrolyzed sodium hyaluronate': 289,\n 'argania spinosa kernel oil': 290,\n 'zingiber officinale (ginger) root extract': 291,\n 'amaranthus caudatus seed oil': 292,\n 'limnanthes alba (meadowfoam) seed oil': 293,\n 'vaccinium myrtillus fruit/leaf extract': 294,\n 'saccharum officinarum (sugarcane) extract': 295,\n 'citrus aurantium dulcis (orange) fruit extract': 296,\n 'citrus limon (lemon) fruit extract': 297,\n 'acer saccharum (sugar maple) extract': 298,\n 'melia azadirachta leaf extract': 299,\n 'helianthus annuus (sunflower) seed oil': 300,\n 'melia azadirachta flower extract': 301,\n 'salvia hispanica seed oil': 302,\n 'arachidyl alcohol': 303,\n 'sclerotium gum': 304,\n 'coco-glucoside': 305,\n 'polyacrylate crosspolymer-6': 306,\n 'behenyl alcohol': 307,\n 'arachidyl glucoside': 308,\n 'corallina officinalis extract': 309,\n 'polyglyceryl-10 stearate': 310,\n 'gluconolactone': 311,\n 'ocimum basilicum (basil) flower/leaf extract': 312,\n 'ocimum sanctum leaf extract': 313,\n 't-butyl alcohol': 314,\n 'citral.': 315,\n 'beste™ no.9 jelly cleanser: water': 316,\n 'sodium lauroyl methyl isethionate': 317,\n 'cocamidopropyl betaine': 318,\n 'cocamidopropyl hydroxysultaine': 319,\n 'sodium methyl oleoyl taurate': 320,\n 'lauryl glucoside': 321,\n 'cucumis melo cantalupensis fruit extract': 322,\n 'dipotassium glycyrrhizate': 323,\n 'sodium chloride. c-firma™ day serum: water': 324,\n 'ethoxydiglycol': 325,\n 'laureth-23': 326,\n 'lactobacillus/pumpkin ferment extract': 327,\n 'ferulic acid': 328,\n 'chondrus crispus extract': 329,\n 'lactobacillus/punica granatum fruit ferment extract': 330,\n 'glycyrrhiza glabra (licorice) root extract': 331,\n 'vitis vinifera (grape) juice extract': 332,\n 'phyllanthus emblica fruit extract': 333,\n 'hydrolyzed wheat protein': 334,\n 'acetyl glucosamine': 335,\n 'hydrolyzed quinoa': 336,\n 'glutamylamidoethyl imidazole': 337,\n 'tetrahydrodiferuloylmethane': 338,\n 'tetrahydrodemethoxydiferuloylmethane': 339,\n 'tetrahydrobisdemethoxydiferuloylmethane': 340,\n 'maltodextrin': 341,\n 'polysorbate 60. b-hydra™ intensive hydration serum: water,coconut alkanes': 342,\n 'ammonium acryloyldimethyltaurate/vp copolymer': 343,\n 'wheat amino acids': 344,\n 'ananas sativus (pineapple) fruit extract': 345,\n 'berberis vulgaris root extract': 346,\n 'citrullus lanatus (watermelon) fruit extract': 347,\n 'lens esculenta (lentil) fruit extract': 348,\n 'pyrus malus (apple) fruit extract': 349,\n 'cyclodextrin': 350,\n 'hydroxyproline': 351,\n 'ethylhexylglycerin. t.l.c. framboos™ glycolic night serum: water': 352,\n 'salicylic acid': 353,\n 'aloe barbadensis leaf juice': 354,\n 'opuntia ficus-indica extract': 355,\n 'aesculus hippocastanum (horse chestnut) seed extract': 356,\n 'rubus idaeus (raspberry) fruit extract': 357,\n 'saccharomyces cerevisiae extract': 358,\n 'buddleja davidii meristem cell culture': 359,\n 'allantoin': 360,\n 'hydroxyethylcellulose': 361,\n 'galactoarabinan': 362,\n 'hexylene glycol': 363,\n 'sodium nitrate': 364,\n 'sodium benzoate. virgin marula luxury facial oil: sclerocarya birrea seed oillala retro™whipped creamwater,glycerin': 365,\n 'ethylhexylglycerin. umbra™ sheer physical daily defense spf 30: zinc oxide 20%': 366,\n 'glycerin,pentylene glycol': 367,\n 'steareth-2': 368,\n 'steareth-21': 369,\n 'polyhydroxystearic acid': 370,\n 'silica': 371,\n 'haematococcus pluvialis extract': 372,\n 'helianthus annuus (sunflower) sprout extract': 373,\n 'simmondsia chinensis (jojoba) seed oil': 374,\n 'raspberry seed oil/tocopheryl succinate aminopropanediol esters': 375,\n 'hydrolyzed wheat protein,tocopheryl acetate': 376,\n 'sea water': 377,\n 'cetearyl glucoside': 378,\n 'sodium stearoyl glutamate': 379,\n 'mica': 380,\n 'titanium dioxide (ci 77891)': 381,\n 'iron oxides (ci 77491). shaba complex™ eye serum: water': 382,\n 'boron nitride': 383,\n 'saccharomyces/xylinum/black tea ferment': 384,\n 'coconut alkanes': 385,\n 'copper tripeptide-1': 386,\n 'leontopodium alpinum meristem cell culture': 387,\n 'dipeptide-2': 388,\n 'copper lysinate/prolinate': 389,\n 'hesperidin methyl chalcone': 390,\n 'chondrus crispus (carrageenan)': 391,\n 'mangifera indica (mango) seed butter': 392,\n 'glycine soja (soybean) oil': 393,\n 'hippophae rhamnoides oil': 394,\n 'ubiquinone': 395,\n 'thioctic acid': 396,\n 'methylglucoside phosphate': 397,\n 'c12-15 alkyl benzoate': 398,\n 'butyrospermum parkii butter': 399,\n 'ceramide 3': 400,\n 'chrysanthemum parthenium extract': 401,\n 'glycyrrhiza glabra root extract': 402,\n 'phenoxyethanol.': 403,\n 'water ': 404,\n 'dimethicone ': 405,\n 'butylene glycol ': 406,\n 'glycerin ': 407,\n 'trisiloxane ': 408,\n 'trehalose ': 409,\n 'sucrose ': 410,\n 'ammonium acryloyldimethyltaurate/vp copolymer ': 411,\n 'hydroxyethyl urea ': 412,\n 'camellia sinensis (green tea) leaf extract ': 413,\n \"silybum marianum (lady's thistle) extract \": 414,\n 'betula alba (birch) bark extract ': 415,\n 'saccharomyces lysate extract ': 416,\n 'aloe barbadensis leaf water ': 417,\n 'thermus thermophillus ferment ': 418,\n 'caffeine ': 419,\n 'sorbitol ': 420,\n 'palmitoyl hexapeptide-12 ': 421,\n 'sodium hyaluronate ': 422,\n 'caprylyl glycol ': 423,\n 'oleth-10 ': 424,\n 'sodium polyaspartate ': 425,\n 'saccharide isomerate ': 426,\n 'hydrogenated lecithin ': 427,\n 'tocopheryl acetate ': 428,\n 'acrylates/c10-30 alkyl acrylate crosspolymer ': 429,\n 'glyceryl polymethacrylate ': 430,\n 'tromethamine ': 431,\n 'peg-8 ': 432,\n 'hexylene glycol ': 433,\n 'magnesium ascorbyl phosphate ': 434,\n 'disodium edta ': 435,\n 'bht ': 436,\n 'phenoxyethanol ': 437,\n 'red 4 (ci 14700) ': 438,\n 'yellow 5 (ci 19140)': 439,\n 'galactomyces ferment filtrate*': 440,\n 'butyrospermum parkii (shea) butter': 441,\n 'phytosteryl/behenyl/octyldodecyl lauroyl glutamate': 442,\n 'vinyl dimethicone/methicone silsesquioxane crosspolymer': 443,\n 'sodium acrylate/sodium acryloyldimethyl taurate copolymer': 444,\n 'benzyl alcohol': 445,\n 'dimethiconol': 446,\n 'peg-100 stearate': 447,\n 'polymethylsilsesquioxane': 448,\n 'polysorbate 80': 449,\n 'sodium peg-7 olive oil carboxylate': 450,\n 'ethylparaben': 451,\n 'sorbitan oleate': 452,\n 'peg-7 glyceryl cocoate': 453,\n 'acanthopanax senticosus (eleuthero) root extract': 454,\n 'hydrolyzed soy protein': 455,\n 'cynara scolymus (artichoke) leaf extract': 456,\n 'polyquaternium-7': 457,\n 'hydrolyzed yeast protein': 458,\n 'palmitoyl pentapeptide-4': 459,\n 'methylsilanol tri-peg-8 glyceryl cocoate': 460,\n 'methicone': 461,\n 'ci 77891': 462,\n 'ci 77492. *pitera™.': 463,\n 'camellia oleifera seed oil': 464,\n 'ethylhexyl palmitate': 465,\n 'mirabilis jalapa extract': 466,\n 'oxidized corn oil': 467,\n 'cera alba (beeswax)': 468,\n 'kigelia': 469,\n 'africana fruit extract': 470,\n 'saccharomyces ferment filtrate': 471,\n 'rubus fruticosus (blackberry) leaf extract': 472,\n 'litichi chinensis seed extract': 473,\n 'rosa damascena flower oil': 474,\n 'adenosine': 475,\n 'ceteareth-12': 476,\n 'sodium citrate': 477,\n 'sodium polyacrylate starch': 478,\n 'sodium polyacrylate': 479,\n 'sorbitan laurate': 480,\n 'tetrasodium edta': 481,\n 'acetyl dipeptide-1 cetyl ester': 482,\n 'ci 77891 (titanium dioxide)': 483,\n 'geraniol.': 484,\n 'hydrogenated polydecene': 485,\n 'dipropylene glycol': 486,\n 'macadamia ternifolia seed oil': 487,\n 'triethylhexanoin': 488,\n 'peg-40 stearate': 489,\n 'saccharomyces/viscum album (mistletoe) ferment extract': 490,\n 'lactobacillus/soybean ferment extract': 491,\n 'saccharomyces/imperata cylindrica root ferment extract': 492,\n 'ceteayl olivate': 493,\n 'hydrogenated lecithin': 494,\n 'sorbitan stearate': 495,\n 'poncirus trifoliata fruit extract': 496,\n '*avena sativa (oat) kernel extract': 497,\n '*calendula officinalis flower extract': 498,\n '*nepeta cataria extract': 499,\n '*rubus idaeus (raspberry) leaf extract': 500,\n '*baptisia tinctoria root extract': 501,\n '*stellaria media (chickweed) extract': 502,\n '**alchemilla vulgaris leaf extract': 503,\n '**viola tricolor extract': 504,\n '**rosa damascena flower extract': 505,\n '**spiraea ulmaria flower extract': 506,\n '**althaea officinalis root extract': 507,\n 'symphytum officinale leaf extract': 508,\n 'trifolium pratense (clover) flower extract': 509,\n 'achillea millefolium flower extract': 510,\n 'euphrasia officinalis extract': 511,\n 'thuja occidentalis leaf extract': 512,\n 'menyanthes trifoliata leaf extract': 513,\n 'chelidonium majus extract': 514,\n 'hydroxyethylpiperazine ethane sulfonic acid': 515,\n 'glycosyl trehalose': 516,\n 'hydrogenated starch hydrolysate': 517,\n 'trisodium edta': 518,\n 'tromethamine': 519,\n '***frgrance': 520,\n 'citronnellol': 521,\n 'limonene. *napiers original formula. **napiers moisture formula. ***fragrances of natural origin.': 522,\n 'peg-4': 523,\n 'citrus aurantium dulcis (orange) oil**': 524,\n 'lavandula angustifolia (lavender) oil**': 525,\n 'pogostemon cablin (patchouli) oil**': 526,\n 'citrus nobilis (mandarin orange) peel oil**': 527,\n 'pelargonium graveolens flower oil**': 528,\n 'boswellia carterii (olibanum) oil***': 529,\n 'ganoderma lucidum (reishi mushroom) extract': 530,\n 'fuscoporia obliqua sclerotium extract': 531,\n 'cordyceps sinensis (mushroom) extract': 532,\n 'ergothioneine': 533,\n 'camelina sativa seed oil': 534,\n 'lactobacillus ferment': 535,\n 'hippophae rhamnoides extract*': 536,\n 'zingiber officinale (ginger) root extract*': 537,\n 'curcuma longa (turmeric) root extract*': 538,\n 'ocimum sanctum (holy basil) leaf extract': 539,\n 'helianthus annuus (sunflower) seed oil*': 540,\n 'silybum marianum fruit extract': 541,\n 'saccharomyces lysate extract': 542,\n 'centella asiatica (hydrocotyl) extract': 543,\n 'hypnea musciformis (algae) extract': 544,\n 'sucrose*': 545,\n 'salvia sclarea (clary) extract': 546,\n 'peg-40 hydrogenated castor oil': 547,\n 'gellidiella acerosa extract': 548,\n 'trideceth-9': 549,\n 'glycereth-26': 550,\n 'mineral oil/paraffinum liquidum/huile minerale ': 551,\n 'petrolatum ': 552,\n 'stearic acid ': 553,\n 'glyceryl stearate ': 554,\n 'sesamum indicum (sesame) oil ': 555,\n 'urea ': 556,\n 'lanolin alcohol ': 557,\n 'triethanolamine ': 558,\n \"hordeum vulgare (barley) extract/extrait d'orge \": 559,\n 'cucumis sativus (cucumber) fruit extract ': 560,\n 'helianthus annuus (sunflower) seedcake ': 561,\n 'propylene glycol dicaprate ': 562,\n 'pentylene glycol ': 563,\n 'trisodium edta ': 564,\n 'yellow 6 (ci 15985) ': 565,\n 'yellow 5 (ci 19140) ': 566,\n 'red 33 (ci 17200)': 567,\n 'nylon-12': 568,\n 'phytosteryl/octyldodecyl lauroyl glutamate': 569,\n 'peg-20 sorbitan cocoate': 570,\n 'inositol': 571,\n 'peg-11 methyl ether dimethicone': 572,\n 'aminomethyl propanol': 573,\n 'undecylenoyl phenylalanine': 574,\n 'hydrolyzed prunus domestica': 575,\n 'hexyldecanol': 576,\n 'citrus reticulata peel extract/citrus reticulata (tangerine) peel extract': 577,\n 'ascorbyl glucoside': 578,\n 'prunus mume fruit extract': 579,\n 'ci 77891 (titanium dioxide).': 580,\n 'cetyl ethylhexanoate': 581,\n 'oryza sativa (rice) bran oil': 582,\n 'polyglyceryl-10 dioleate': 583,\n 'polyglyceryl-2 sesquicaprylate': 584,\n 'camellia japonica seed oil': 585,\n 'camellia sinensis (green tea) leaf extract': 586,\n 'algae extract': 587,\n 'glyceryl behenate/eicosadioate': 588,\n 'fragrance (natural)': 589,\n 'alcohol': 590,\n 'visit the olehenriksen boutique': 591,\n 'organic argania spinosa (argan) kernel oil*. *organic. **natural.': 592,\n 'titanium dioxide [nano]': 593,\n 'titanium dioxide': 594,\n 'zinc oxide': 595,\n 'sodium chloride': 596,\n 'bis-diglyceryl polyacyladipate-2': 597,\n 'disteardimonium hectorite': 598,\n 'triethyl citrate': 599,\n 'ethyl hexanediol': 600,\n 'canadian colloidal clay': 601,\n 'moroccan lava clay': 602,\n 'avena sativa kernel extract': 603,\n 'oat kernel extract': 604,\n 'curcuma longa root extract': 605,\n 'turmeric root extract': 606,\n 'sulfur': 607,\n 'persea gratissima fruit extract': 608,\n 'avocado fruit extract': 609,\n 'vitis vinifera seed extract': 610,\n 'grape seed extract': 611,\n 'salix alba bark extract': 612,\n 'willow bark extract': 613,\n 'pentaerythrityl tetra-di-t-butyl hydroxyhydrocinnamate': 614,\n 'glycine soja sprout extract': 615,\n 'soybean sprout extract': 616,\n 'serica extract': 617,\n 'silk extract': 618,\n 'perfluoromethylcyclopentane': 619,\n 'melaleuca alternifolia flower/leaf/stem extract - tea tree flower/leaf/stem extract': 620,\n 'punica granatum fruit juice': 621,\n 'charcoal powder': 622,\n 'lactobacillus/honeysuckle flower/licorice root/morus alba root/pueraria lobata root/schisandra chinensis fruit/scutellaria baicalensis root/sophora japonica flower extract ferment filtrate': 623,\n 'chlorhexidine digluconate': 624,\n '[+/- may contain: ci 77491': 625,\n 'ci 77492': 626,\n 'ci 77499': 627,\n 'iron oxides': 628,\n 'titanium dioxide].': 629,\n 'oenothera biennis (evening primrose) root extract': 630,\n 'prunus armeniaca (apricot) fruit extract': 631,\n 'beta-glucan': 632,\n 'chenopodium quinoa seed extract': 633,\n 'zinc sulfate': 634,\n 'manganese sulfate': 635,\n 'calcium chloride': 636,\n 'potassium alginate': 637,\n 'ammonium acryloyldimethyltaurate': 638,\n 'vp copolymer': 639,\n 'vinyl dimethicone crosspolymer': 640,\n 'stearyl behenate': 641,\n 'polyglyceryl-3 methylglucose distearate': 642,\n 'hydroxypropyl bispalmitamide mea': 643,\n 'inulin lauryl carbamate': 644,\n 'blue 1 (ci 42090).': 645,\n 'dicaprylyl ether': 646,\n 'sucrose polystearate': 647,\n 'phytosphingosine': 648,\n 'glyceryl undecylenate': 649,\n 'trisiloxane': 650,\n 'potassium cetyl phosphate': 651,\n 'polyacrylate-13': 652,\n 'polyisobutene': 653,\n 'propylene glycol': 654,\n 'acrylates': 655,\n 'c10-30 alkyl acrylate crosspolymer': 656,\n 'peg-5 rapeseed sterol': 657,\n 'hydroxyethyl acrylate': 658,\n 'sodium acryloyldimethyl taurate copolymer': 659,\n 'hydrogenated polyisobutene': 660,\n 'squalane (olive origin)': 661,\n 'inositol (rice extract)': 662,\n 'sericin (silk extract)': 663,\n 'oryza sativa (rice) germ oil': 664,\n 'chondrus crispus (red algae) extract': 665,\n 'panax ginseng root extract': 666,\n 'zizyphus jujuba fruit extract': 667,\n 'thymus serpillum (thyme) extract': 668,\n 'scutellaria baicalensis root extract': 669,\n 'polyglyceryl-2 diisostearate': 670,\n 'ppg-5-ceteth-10 phosphate': 671,\n 'trideceth-12': 672,\n 'sodiumlauroyl lactylate': 673,\n 'phytosteryl macadamiate': 674,\n 'sd alcohol 40-b (alcohol denat.)': 675,\n 'isododecane': 676,\n 'beheneth-20': 677,\n 'fragrance (parfum)': 678,\n 'peg/ppg-17/4 dimethyl ether': 679,\n 'butylphenyl methylpropional': 680,\n 'sodium metaphosphate': 681,\n 'sapindus mukurossi peel extract (sapindus mukurossi)': 682,\n 'alpha-isomethyl ionone': 683,\n 'benzyl benzoate': 684,\n 'hexyl cinnamal': 685,\n 'uncaria gambir extract (uncaria gambir)': 686,\n 'sodium acetylated hyaluronate': 687,\n 'iron oxides (ci 77491)': 688,\n 'hypericum erectum extract': 689,\n 'chlorella vulgaris extract.': 690,\n 'parfum/fragrance': 691,\n 'hydroxyacetophenone': 692,\n 'bakuchiol': 693,\n 'leontopodium alpinum callus culture extract': 694,\n 'peg-75 stearate': 695,\n 'ceteth-20': 696,\n 'enteromorpha compressa extract': 697,\n 'santalum album (sandalwood) extract': 698,\n 'chamomilla recutita (matricaria) flower extract': 699,\n 'saccharum officinarum (sugar cane) extract': 700,\n 'leuconostoc/radish root ferment filtrate': 701,\n 'sodium phytate': 702,\n 'violet 2 (ci 60730)': 703,\n 'red 4 (ci 14700)': 704,\n 'silybum marianum (milk thistle) seed oil': 705,\n 'nigella sativa (black cumin) seed oil': 706,\n 'cucumis sativus (cucumber) seed oil': 707,\n 'diisopropyl sebacate': 708,\n 'punica granatum (pomegranate) seed oil': 709,\n 'vaccinium macrocarpon (cranberry) seed oil': 710,\n 'dimethyl isosorbide': 711,\n 'linum usitatissimum (flax) seed oil': 712,\n 'caprylic/capric triglycerides': 713,\n 'ethyl linoleate': 714,\n 'hexylresorcinol': 715,\n 'prunus armeniaca (apricot) kernel oil': 716,\n 'chamomilla recutita flower oil': 717,\n 'citrus aurantium amara (neroli) flower oil': 718,\n 'melaleuca alternifolia (tea tree) leaf oil': 719,\n 'helianthus annuus seed oil': 720,\n 'rosmarinus officinalis (rosemary) leaf extract': 721,\n 'citrus paradisii (grapefruit) peel oil': 722,\n 'melia azadirachta (neem) leaf extract': 723,\n 'melia azadirachta (neem) flower extract': 724,\n 'coccinia indica fruit extract': 725,\n 'amino esters-1': 726,\n 'amber leaf extract': 727,\n 'solanum melongena (eggplant) fruit extract': 728,\n 'aloe barbadensis flower extract': 729,\n 'lawsonia inermis (henna) extract': 730,\n 'ocimum basilicum (basil) leaf extract': 731,\n 'pearl powder': 732,\n 'moringa pterygosperma seed oil.': 733,\n 'caulerpa lentillifera (seaweed) extract': 734,\n 'simethicone': 735,\n 'citrullus lanatus (watermelon) fruit': 736,\n 'cucurbita pepo (pumpkin) fruit extract': 737,\n 'punica granatum (pomegranate) fruit extract': 738,\n 'musa sapientum (banana) fruit extract ': 739,\n 'paeonia suffruticosa (peony) root extract': 740,\n 'brassica oleracea capitata (cabbage) leaf extract': 741,\n 'ipomoea batatas (sweet potato) root extract': 742,\n 'betaine': 743,\n 'beta glucan': 744,\n 'aloe barbadensis (aloe vera) leaf juice': 745,\n 'isoamyl laurate': 746,\n 'rosa damascena (rose) flower water': 747,\n 'glyceryl stearate citrate': 748,\n 'populus tremuloides (aspen) bark extract': 749,\n 'aleurites moluccana (kukui) nut oil': 750,\n 'myrothamnus flabellifolia extract': 751,\n 'cocos nucifera (coconut) extract': 752,\n 'butyrospermum parkii (shea) nut butter': 753,\n 'oryza sativa (rice) seed extract': 754,\n 'camellia sinensis (white tea) leaf extract': 755,\n 'rosa damascena (rose) flower oil': 756,\n 'sodium anisate.': 757,\n 'hydrolyzed jojoba esters': 758,\n 'caprylic/capric triglyceride,propanediol': 759,\n 'tamarindus indica(tamarind) seed gum': 760,\n 'ethyl macadamiate': 761,\n 'sodium acrylates copolymer (and) lecithin': 762,\n 'adipic acid/neopentyl glycol crosspolymer': 763,\n 'lauryl dimethicone': 764,\n 'strelitzia nicolai (bird of paradise flower) seed aril extract': 765,\n 'alpha-arbutin': 766,\n 'papain (and) carbomer 1 (and) 2-hexanediol (and) caprylyl glycol (and) algin': 767,\n 'cucumis sativus (cucumber) extract': 768,\n 'melia azadirachta (neem) leaf extract (and) melia azadirachta flower (neem) extract (and) mimosa terniflora extract (and) amber extract (and) coccinia indica fruit extract (and) solanum melongena (eggplant) fruit extract': 769,\n 'aloe barbadensis flower extract (and) lawsonia inermis extract (and) ocimum sanctum leaf (holy basil) extract': 770,\n 'synthetic fluorphlogopite': 771,\n 'chlorphenesin.': 772,\n 'vitis vinifera (grape) fruit water*': 773,\n 'vitis vinifera (grape) juice*': 774,\n 'nitrogen. *plant origin.': 775,\n 'purified water': 776,\n 'helianthus annuus (sunflower) oil': 777,\n 'octyl palmitate': 778,\n 'rhodiola rosea': 779,\n 'ocimum tenuiflorum (holy basil)': 780,\n 'withania somnifera (ashwagandha)': 781,\n 'ganoderma lucidum (reishi mushroom)': 782,\n 'glyceryl mono laurate': 783,\n 'squalane (olive)': 784,\n 'simmondsia chineses (jojoba) seed oil': 785,\n 'pentapeptide-59': 786,\n 'phenethyl alcohol': 787,\n 'mixed tocopherols': 788,\n 'prunus amygdalus dulcis (sweet almond) oil': 789,\n 'borago officinalis (borage) oil': 790,\n 'caramel color': 791,\n 'xanthan gum.': 792,\n 'polydecene': 793,\n 'brassica campestris (rapeseed) seed oil': 794,\n 'oxycoccus palustris (cranberry) seed oil': 795,\n 'olea europaea (olive) fruit oil': 796,\n 'laminaria ochroleuca extract': 797,\n 'laminaria saccharina extract': 798,\n \"sigesbeckia orientalis (st. paul's wort) extract\": 799,\n 'magnolia officinalis bark extract': 800,\n 'yeast extract/faex/extrait de levure': 801,\n 'commiphora mukul resin extract': 802,\n 'molasses extract/saccharum officinarum/extrait de melasse': 803,\n 'amyl cinnamal': 804,\n 'coumarin': 805,\n 'yellow 6 (ci 15985)': 806,\n 'pistacia lentiscus (mastic) gum': 807,\n 'rosa damascena flower extract': 808,\n 'caprylic/capric triglycerides.': 809,\n 'peg-10 dimethicone': 810,\n 'alumina': 811,\n 'diamond powder': 812,\n 'iron oxides.': 813,\n 'methyl trimethicone': 814,\n 'citrus limon (lemon) peel oil*': 815,\n 'citrus grandis (grapefruit) peel oil*': 816,\n 'mentha viridis (spearmint) leaf oil*': 817,\n 'simmondsia chinensis (jojoba) butter': 818,\n 'castanea sativa (chestnut) seed extract': 819,\n 'rubus idaeus (raspberry) leaf wax': 820,\n 'coleus barbatus extract': 821,\n \"hordeum vulgare (barley) extract\\\\extrait d'orge\": 822,\n 'triticum vulgare (wheat) germ extract': 823,\n 'panax ginseng (ginseng) root extract': 824,\n 'foeniculum vulgare (fennel) seed extract': 825,\n 'phospholipids': 826,\n 'pantethine': 827,\n 'calcium carbonate': 828,\n 'phenoxyethanol. *essential oil.': 829,\n 'rosa damascena flower water': 830,\n 'hamamelis virginiana (witch hazel) water': 831,\n 'peg-7 caprylic/capric glycerides': 832,\n 'xylitol': 833,\n 'citrus aurantium dulcis (orange) oil': 834,\n 'lavandula angustifolia (lavender) oil': 835,\n 'cedrus atlantica bark oil': 836,\n 'pelargonium graveolens flower oil': 837,\n 'carica papaya (papaya) fruit water': 838,\n 'jasminum officinale (jasmine) oil': 839,\n 'illicium verum (anise) fruit/seed oil': 840,\n 'artemisia absinthium extract': 841,\n 'rose flower oil': 842,\n 'ferula galbaniflua (galbanum) resin oil': 843,\n 'eucalyptus globulus leaf extract': 844,\n 'lavandula angustifolia (lavender) flower/leaf/stem extract': 845,\n 'melaleuca alternifolia (tea tree) leaf extract': 846,\n 'melissa officinalis leaf (green tea) extract ': 847,\n 'mentha piperita(peppermint) leaf extract': 848,\n 'mentha rotundifolia leaf extract': 849,\n 'mentha spicata flower/leaf/stem extract': 850,\n 'origanum majorana leaf extract': 851,\n 'origanum vulgare leaf extract': 852,\n 'pelargonium graveolens extract': 853,\n 'thymus vulgaris (thyme) leaf extract': 854,\n 'decyl glucoside': 855,\n 'ppg-26-buteth-26': 856,\n 'octanediol': 857,\n 'copaifera officinalis (balsam copaiba) resin': 858,\n 'protease': 859,\n 'saccharomyces/camellia sinensis leaf/cladosiphon okamuranus/rice ferment filtrate*': 860,\n 'isononyl isononanoate': 861,\n 'sericin': 862,\n 'hydrolyzed conchiolin protein': 863,\n 'rubus ellipticus root extract': 864,\n 'thymus serpyllum extract': 865,\n 'polyglyceryl-2 triisostearate': 866,\n 'batyl alcohol': 867,\n 'bis-behenyl/isostearyl/phytosteryl dimer dilinoleyl dimer dilinoleate': 868,\n 'biosaccharide gum-1': 869,\n 'phenoxyethanol. *hadasei-3.': 870,\n '3-o-ethyl ascorbic acid': 871,\n 'ammonium acryloyldimethyltaurate/beheneth-25 methacrylate crosspolymer': 872,\n 'hippophae rhamnoides extract': 873,\n 'lycium barbarum fruit extract': 874,\n 'rosa canina fruit extract': 875,\n 'camellia japonica flower extract': 876,\n 'aroma/flavor': 877,\n 'hyaluronic acid': 878,\n 'vegetable collagen': 879,\n 'benzyl alcohol.': 880,\n 'phyllostachis bambusoides juice': 881,\n 'arbutin': 882,\n 'lauryl peg-9 polydimethylsiloxyethyl dimethicone': 883,\n 'acrylates/ethylhexyl acrylate/dimethicone methacrylate copolymer': 884,\n 'polymethyl methacrylate': 885,\n 'aluminium hydroxide': 886,\n 'isostearic acid': 887,\n 'isopropyl palmitate': 888,\n 'polyglyceryl-3 polyricinoleate': 889,\n 'acrylates/stearyl acrylate/dimethicone methacrylate copolymer': 890,\n 'trimethylsiloxysilicate': 891,\n 'ethylhexyglycerin': 892,\n 'camillia sinensis leaf extract': 893,\n 'iron oxides (ci 77492': 894,\n 'ci77499).': 895,\n 'centella asiatica leaf water': 896,\n 'methyl methacrylate crosspolymer': 897,\n \"beeswax/cire d'abeille\": 898,\n 'diethylhexyl carbonate': 899,\n 'pan-thenol': 900,\n 'diglycerin': 901,\n 'polyglyceryl-4 diisostearate/polyhydroxystearate/sebacate': 902,\n 'dimethicone/vinyl dimethi- cone crosspolymer': 903,\n 'ethylene/methacrylate copolymer': 904,\n 'acrylates/ammonium methacrylate copolymer': 905,\n 'acrylates/dimethicone copolymer': 906,\n 'hydrogen dimethicone': 907,\n 'chromium oxide greens': 908,\n 'fragaria vesca (strawberry) leaf extract': 909,\n 'asiaticoside': 910,\n 'aden- osine': 911,\n 'asiatic acid': 912,\n 'madecassic acid': 913,\n 'rosmarinus officinalis (rosemary) leaf oil': 914,\n '1,2- hexanediol': 915,\n 'anthemis nobilis flower oil': 916,\n 'houttuynia cordata extract': 917,\n 'centella asiatica extract': 918,\n 'gentiana lutea root extract': 919,\n 'achillea millefolium extract': 920,\n 'arnica montana flower extract': 921,\n 'aniba rosodora (rosewood) wood oil': 922,\n 'sodium glycerophosphate': 923,\n 'selaginella lepidophylla extract': 924,\n 'potassium magnesium aspartate': 925,\n 'madecassoside': 926,\n 'centella asiatica meristem cell culture': 927,\n 'zinc oxide.': 928,\n 'dicaprylyl ether*': 929,\n 'glycerin*': 930,\n 'butyrospermum parkii (shea butter) extract*': 931,\n 'hexyldecanol*': 932,\n 'hexyldecyl laurate*': 933,\n 'behenyl alcohol*': 934,\n 'glyceryl stearate*': 935,\n 'erythritol': 936,\n 'parfum (fragrance)': 937,\n 'tocopherol*': 938,\n 'lecithin*': 939,\n 'mannitol*': 940,\n 'palmitoyl grape seed extract*': 941,\n 'glycine soja (soybean) sterols*': 942,\n 'chamomilla recutita (matricaria) flower extract*': 943,\n 'sodium carboxymethyl betaglucan': 944,\n 'sodium phytate*': 945,\n 'homarine hcl': 946,\n 'glyceryl caprylate*': 947,\n 'acetyl tetrapeptide-15. *plant origin.': 948,\n 'cyclomethicone': 949,\n 'ci 77492/iron oxides': 950,\n 'mel/honey extract': 951,\n 'talc': 952,\n 'trihydroxystearin': 953,\n 'polyester-1': 954,\n 'silica dimethyl silylate': 955,\n 'eugenol': 956,\n 'ci 77491/iron oxides': 957,\n 'ci 77499/iron oxides.': 958,\n 'tetrahexyldecyl ascorbate (vitamin c)': 959,\n 'c10-18 triglycerides': 960,\n 'peg-8 beeswax': 961,\n 'tapioca starch': 962,\n 'ppg-12 smdi copolymer': 963,\n 'polyglyceryl-6 distearate': 964,\n 'sodium acrylates copolymer': 965,\n 'polyglyceryl-3 beeswax': 966,\n 'microcitrus australasica fruit (lime pearl) extract': 967,\n 'alteromonas ferment extract (exopolysaccharides)': 968,\n 'terminalia ferdinandiana fruit (kakadu plum) extract': 969,\n 'bisabolol': 970,\n 'citrus reticulata (tangerine) peel oil': 971,\n 'rosa centifolia flower wax': 972,\n 'rosa damascena flower wax': 973,\n 'alcohol denat (found in botanical extracts)': 974,\n 'citrus junos fruit (yuzu) extract': 975,\n 'lippia citriodora flower (lemon verbena) extract': 976,\n 'euterpe oleracea (acai) fruit': 977,\n 'butyrospermum parkii (shea) butter extract': 978,\n 'rosa canina fruit (rosehips)extract': 979,\n 'oenothera biennis (evening primrose) seed extract': 980,\n 'camellia sinensis leaf (oolong tea).': 981,\n 'chlorhexidine digluconate. [+/-: mica (ci 77019)': 982,\n 'ci 77499)].': 983,\n 'ziziphus jujuba fruit extract': 984,\n 'stearyl glycyrrhetinate': 985,\n 'sodium lauroyl lactylate': 986,\n 'peg-240/hdi copolymer bis-decyltetradeceth-20 ether': 987,\n 'cetyl ricinoleate': 988,\n 'cetyl esters': 989,\n 'cucumis sativus (cucumber) fruit extract': 990,\n 'ceramide ng': 991,\n 'tin oxide': 992,\n 'acrylamide/sodium acryloyldimethyltaurate copolymer': 993,\n 'magnesium ascorbyl phosphate': 994,\n '[+/- mica': 995,\n 'iron oxides (ci 77499)': 996,\n 'iron oxides (ci 77492)]': 997,\n 'hydrogenated poly(c6-14 olefin)': 998,\n '1': 999,\n ...}"
          },
          "metadata": {}
        }
      ]
    },
    {
      "metadata": {
        "dc": {
          "key": "26"
        },
        "tags": [
          "sample_code"
        ],
        "trusted": true,
        "id": "FQcdBOczNHDI"
      },
      "cell_type": "code",
      "source": [
        "# Get the number of items and tokens \n",
        "M = len(moisturizers_dry)\n",
        "N = len(ingredient_idx)\n",
        "\n",
        "# Initialize a matrix of zeros\n",
        "A = np.zeros((M,N))"
      ],
      "execution_count": null,
      "outputs": []
    },
    {
      "metadata": {
        "dc": {
          "key": "33"
        },
        "deletable": false,
        "editable": false,
        "run_control": {
          "frozen": true
        },
        "tags": [
          "context"
        ],
        "id": "-3VD2p3uNHDJ"
      },
      "cell_type": "markdown",
      "source": [
        "## 5. Creating a counter function\n",
        "<p>Before we can fill the matrix, let's create a function to count the tokens (i.e., an ingredients list) for each row. Our end goal is to fill the matrix with 1 or 0: if an ingredient is in a cosmetic, the value is 1. If not, it remains 0. The name of this function, <code>oh_encoder</code>, will become clear next.</p>"
      ]
    },
    {
      "metadata": {
        "dc": {
          "key": "33"
        },
        "tags": [
          "sample_code"
        ],
        "trusted": true,
        "collapsed": true,
        "id": "h7aP-fKdNHDK"
      },
      "cell_type": "code",
      "source": [
        "# Define the oh_encoder function\n",
        "def oh_encoder(tokens):\n",
        "    x = np.zeros(N)  \n",
        "    for ingredient in tokens:\n",
        "        # Get the index for each ingredient\n",
        "        idx = ingredient_idx[ingredient]\n",
        "        # Put 1 at the corresponding indices\n",
        "        x[idx] = 1\n",
        "    return x"
      ],
      "execution_count": null,
      "outputs": []
    },
    {
      "metadata": {
        "dc": {
          "key": "40"
        },
        "deletable": false,
        "editable": false,
        "run_control": {
          "frozen": true
        },
        "tags": [
          "context"
        ],
        "id": "tDRez678NHDK"
      },
      "cell_type": "markdown",
      "source": [
        "## 6. The Cosmetic-Ingredient matrix!\n",
        "<p>Now we'll apply the <code>oh_encoder()</code> functon to the tokens in <code>corpus</code> and set the values at each row of this matrix. So the result will tell us what ingredients each item is composed of. For example, if a cosmetic item contains <em>water, niacin, decyl aleate</em> and <em>sh-polypeptide-1</em>, the outcome of this item will be as follows. \n",
        "<img src=\"https://assets.datacamp.com/production/project_695/img/image_3.PNG\" style=\"width:800px;height:400px;\">\n",
        "This is what we called one-hot encoding. By encoding each ingredient in the items, the <em>Cosmetic-Ingredient</em> matrix will be filled with binary values. </p>"
      ]
    },
    {
      "metadata": {
        "dc": {
          "key": "40"
        },
        "tags": [
          "sample_code"
        ],
        "trusted": true,
        "id": "c_9iXcOENHDK"
      },
      "cell_type": "code",
      "source": [
        "# Make a document-term matrix\n",
        "i = 0\n",
        "for tokens in corpus:\n",
        "    A[i, :] = oh_encoder(tokens)\n",
        "    i+=1\n",
        "    "
      ],
      "execution_count": null,
      "outputs": []
    },
    {
      "metadata": {
        "dc": {
          "key": "47"
        },
        "deletable": false,
        "editable": false,
        "run_control": {
          "frozen": true
        },
        "tags": [
          "context"
        ],
        "id": "P2X4VK_3NHDL"
      },
      "cell_type": "markdown",
      "source": [
        "## 7. Dimension reduction with t-SNE\n",
        "<p>The dimensions of the existing matrix is (190, 2233), which means there are 2233 features in our data. For visualization, we should downsize this into two dimensions. We'll use t-SNE for reducing the dimension of the data here.</p>\n",
        "<p><strong><a href=\"https://en.wikipedia.org/wiki/T-distributed_stochastic_neighbor_embedding\">T-distributed Stochastic Neighbor Embedding (t-SNE)</a></strong> is a nonlinear dimensionality reduction technique that is well-suited for embedding high-dimensional data for visualization in a low-dimensional space of two or three dimensions. Specifically, this technique can reduce the dimension of data while keeping the similarities between the instances. This enables us to make a plot on the coordinate plane, which can be said as vectorizing. All of these cosmetic items in our data will be vectorized into two-dimensional coordinates, and the distances between the points will indicate the similarities between the items. </p>"
      ]
    },
    {
      "metadata": {
        "dc": {
          "key": "47"
        },
        "tags": [
          "sample_code"
        ],
        "trusted": true,
        "id": "cyQozl9JNHDL"
      },
      "cell_type": "code",
      "source": [
        "# Dimension reduction with t-SNE\n",
        "model = TSNE(n_components = 2,learning_rate = 200,random_state = 42)\n",
        "tsne_features = model.fit_transform(A)\n",
        "\n",
        "# Make X, Y columns \n",
        "moisturizers_dry['X'] = tsne_features[:,0]\n",
        "moisturizers_dry['Y'] = tsne_features[:,1]"
      ],
      "execution_count": null,
      "outputs": []
    },
    {
      "metadata": {
        "dc": {
          "key": "55"
        },
        "deletable": false,
        "editable": false,
        "run_control": {
          "frozen": true
        },
        "tags": [
          "context"
        ],
        "id": "wpvG_92VNHDM"
      },
      "cell_type": "markdown",
      "source": [
        "## 8. Let's map the items with Bokeh\n",
        "<p>We are now ready to start creating our plot. With the t-SNE values, we can plot all our items on the coordinate plane. And the coolest part here is that it will also show us the name, the brand, the price and the rank of each item. Let's make a scatter plot using Bokeh and add a hover tool to show that information. Note that we won't display the plot yet as we will make some more additions to it.</p>"
      ]
    },
    {
      "metadata": {
        "dc": {
          "key": "55"
        },
        "tags": [
          "sample_code"
        ],
        "trusted": true,
        "id": "gVuJiQspNHDM",
        "outputId": "50bde540-4027-425b-b6d0-b5df1487af56"
      },
      "cell_type": "code",
      "source": [
        "from bokeh.io import show, output_notebook, push_notebook\n",
        "from bokeh.plotting import figure\n",
        "from bokeh.models import ColumnDataSource, HoverTool\n",
        "output_notebook()\n",
        "\n",
        "# Make a source and a scatter plot  \n",
        "source = ColumnDataSource(moisturizers_dry)\n",
        "plot = figure(x_axis_label ='T-SNE 1', \n",
        "              y_axis_label = 'T-SNE 2', \n",
        "              width = 500, height = 400)\n",
        "plot.circle(x = 'X', \n",
        "    y ='Y', \n",
        "    source = source, \n",
        "    size = 10, color = '#FF7373', alpha = .8)"
      ],
      "execution_count": null,
      "outputs": [
        {
          "output_type": "display_data",
          "data": {
            "text/html": "\n    <div class=\"bk-root\">\n        <a href=\"https://bokeh.pydata.org\" target=\"_blank\" class=\"bk-logo bk-logo-small bk-logo-notebook\"></a>\n        <span id=\"1252\">Loading BokehJS ...</span>\n    </div>"
          },
          "metadata": {}
        },
        {
          "output_type": "display_data",
          "data": {
            "application/javascript": "\n(function(root) {\n  function now() {\n    return new Date();\n  }\n\n  var force = true;\n\n  if (typeof (root._bokeh_onload_callbacks) === \"undefined\" || force === true) {\n    root._bokeh_onload_callbacks = [];\n    root._bokeh_is_loading = undefined;\n  }\n\n  var JS_MIME_TYPE = 'application/javascript';\n  var HTML_MIME_TYPE = 'text/html';\n  var EXEC_MIME_TYPE = 'application/vnd.bokehjs_exec.v0+json';\n  var CLASS_NAME = 'output_bokeh rendered_html';\n\n  /**\n   * Render data to the DOM node\n   */\n  function render(props, node) {\n    var script = document.createElement(\"script\");\n    node.appendChild(script);\n  }\n\n  /**\n   * Handle when an output is cleared or removed\n   */\n  function handleClearOutput(event, handle) {\n    var cell = handle.cell;\n\n    var id = cell.output_area._bokeh_element_id;\n    var server_id = cell.output_area._bokeh_server_id;\n    // Clean up Bokeh references\n    if (id != null && id in Bokeh.index) {\n      Bokeh.index[id].model.document.clear();\n      delete Bokeh.index[id];\n    }\n\n    if (server_id !== undefined) {\n      // Clean up Bokeh references\n      var cmd = \"from bokeh.io.state import curstate; print(curstate().uuid_to_server['\" + server_id + \"'].get_sessions()[0].document.roots[0]._id)\";\n      cell.notebook.kernel.execute(cmd, {\n        iopub: {\n          output: function(msg) {\n            var id = msg.content.text.trim();\n            if (id in Bokeh.index) {\n              Bokeh.index[id].model.document.clear();\n              delete Bokeh.index[id];\n            }\n          }\n        }\n      });\n      // Destroy server and session\n      var cmd = \"import bokeh.io.notebook as ion; ion.destroy_server('\" + server_id + \"')\";\n      cell.notebook.kernel.execute(cmd);\n    }\n  }\n\n  /**\n   * Handle when a new output is added\n   */\n  function handleAddOutput(event, handle) {\n    var output_area = handle.output_area;\n    var output = handle.output;\n\n    // limit handleAddOutput to display_data with EXEC_MIME_TYPE content only\n    if ((output.output_type != \"display_data\") || (!output.data.hasOwnProperty(EXEC_MIME_TYPE))) {\n      return\n    }\n\n    var toinsert = output_area.element.find(\".\" + CLASS_NAME.split(' ')[0]);\n\n    if (output.metadata[EXEC_MIME_TYPE][\"id\"] !== undefined) {\n      toinsert[toinsert.length - 1].firstChild.textContent = output.data[JS_MIME_TYPE];\n      // store reference to embed id on output_area\n      output_area._bokeh_element_id = output.metadata[EXEC_MIME_TYPE][\"id\"];\n    }\n    if (output.metadata[EXEC_MIME_TYPE][\"server_id\"] !== undefined) {\n      var bk_div = document.createElement(\"div\");\n      bk_div.innerHTML = output.data[HTML_MIME_TYPE];\n      var script_attrs = bk_div.children[0].attributes;\n      for (var i = 0; i < script_attrs.length; i++) {\n        toinsert[toinsert.length - 1].firstChild.setAttribute(script_attrs[i].name, script_attrs[i].value);\n      }\n      // store reference to server id on output_area\n      output_area._bokeh_server_id = output.metadata[EXEC_MIME_TYPE][\"server_id\"];\n    }\n  }\n\n  function register_renderer(events, OutputArea) {\n\n    function append_mime(data, metadata, element) {\n      // create a DOM node to render to\n      var toinsert = this.create_output_subarea(\n        metadata,\n        CLASS_NAME,\n        EXEC_MIME_TYPE\n      );\n      this.keyboard_manager.register_events(toinsert);\n      // Render to node\n      var props = {data: data, metadata: metadata[EXEC_MIME_TYPE]};\n      render(props, toinsert[toinsert.length - 1]);\n      element.append(toinsert);\n      return toinsert\n    }\n\n    /* Handle when an output is cleared or removed */\n    events.on('clear_output.CodeCell', handleClearOutput);\n    events.on('delete.Cell', handleClearOutput);\n\n    /* Handle when a new output is added */\n    events.on('output_added.OutputArea', handleAddOutput);\n\n    /**\n     * Register the mime type and append_mime function with output_area\n     */\n    OutputArea.prototype.register_mime_type(EXEC_MIME_TYPE, append_mime, {\n      /* Is output safe? */\n      safe: true,\n      /* Index of renderer in `output_area.display_order` */\n      index: 0\n    });\n  }\n\n  // register the mime type if in Jupyter Notebook environment and previously unregistered\n  if (root.Jupyter !== undefined) {\n    var events = require('base/js/events');\n    var OutputArea = require('notebook/js/outputarea').OutputArea;\n\n    if (OutputArea.prototype.mime_types().indexOf(EXEC_MIME_TYPE) == -1) {\n      register_renderer(events, OutputArea);\n    }\n  }\n\n  \n  if (typeof (root._bokeh_timeout) === \"undefined\" || force === true) {\n    root._bokeh_timeout = Date.now() + 5000;\n    root._bokeh_failed_load = false;\n  }\n\n  var NB_LOAD_WARNING = {'data': {'text/html':\n     \"<div style='background-color: #fdd'>\\n\"+\n     \"<p>\\n\"+\n     \"BokehJS does not appear to have successfully loaded. If loading BokehJS from CDN, this \\n\"+\n     \"may be due to a slow or bad network connection. Possible fixes:\\n\"+\n     \"</p>\\n\"+\n     \"<ul>\\n\"+\n     \"<li>re-rerun `output_notebook()` to attempt to load from CDN again, or</li>\\n\"+\n     \"<li>use INLINE resources instead, as so:</li>\\n\"+\n     \"</ul>\\n\"+\n     \"<code>\\n\"+\n     \"from bokeh.resources import INLINE\\n\"+\n     \"output_notebook(resources=INLINE)\\n\"+\n     \"</code>\\n\"+\n     \"</div>\"}};\n\n  function display_loaded() {\n    var el = document.getElementById(\"1252\");\n    if (el != null) {\n      el.textContent = \"BokehJS is loading...\";\n    }\n    if (root.Bokeh !== undefined) {\n      if (el != null) {\n        el.textContent = \"BokehJS \" + root.Bokeh.version + \" successfully loaded.\";\n      }\n    } else if (Date.now() < root._bokeh_timeout) {\n      setTimeout(display_loaded, 100)\n    }\n  }\n\n\n  function run_callbacks() {\n    try {\n      root._bokeh_onload_callbacks.forEach(function(callback) { callback() });\n    }\n    finally {\n      delete root._bokeh_onload_callbacks\n    }\n    console.info(\"Bokeh: all callbacks have finished\");\n  }\n\n  function load_libs(js_urls, callback) {\n    root._bokeh_onload_callbacks.push(callback);\n    if (root._bokeh_is_loading > 0) {\n      console.log(\"Bokeh: BokehJS is being loaded, scheduling callback at\", now());\n      return null;\n    }\n    if (js_urls == null || js_urls.length === 0) {\n      run_callbacks();\n      return null;\n    }\n    console.log(\"Bokeh: BokehJS not loaded, scheduling load and callback at\", now());\n    root._bokeh_is_loading = js_urls.length;\n    for (var i = 0; i < js_urls.length; i++) {\n      var url = js_urls[i];\n      var s = document.createElement('script');\n      s.src = url;\n      s.async = false;\n      s.onreadystatechange = s.onload = function() {\n        root._bokeh_is_loading--;\n        if (root._bokeh_is_loading === 0) {\n          console.log(\"Bokeh: all BokehJS libraries loaded\");\n          run_callbacks()\n        }\n      };\n      s.onerror = function() {\n        console.warn(\"failed to load library \" + url);\n      };\n      console.log(\"Bokeh: injecting script tag for BokehJS library: \", url);\n      document.getElementsByTagName(\"head\")[0].appendChild(s);\n    }\n  };var element = document.getElementById(\"1252\");\n  if (element == null) {\n    console.log(\"Bokeh: ERROR: autoload.js configured with elementid '1252' but no matching script tag was found. \")\n    return false;\n  }\n\n  var js_urls = [\"https://cdn.pydata.org/bokeh/release/bokeh-1.0.4.min.js\", \"https://cdn.pydata.org/bokeh/release/bokeh-widgets-1.0.4.min.js\", \"https://cdn.pydata.org/bokeh/release/bokeh-tables-1.0.4.min.js\", \"https://cdn.pydata.org/bokeh/release/bokeh-gl-1.0.4.min.js\"];\n\n  var inline_js = [\n    function(Bokeh) {\n      Bokeh.set_log_level(\"info\");\n    },\n    \n    function(Bokeh) {\n      \n    },\n    function(Bokeh) {\n      console.log(\"Bokeh: injecting CSS: https://cdn.pydata.org/bokeh/release/bokeh-1.0.4.min.css\");\n      Bokeh.embed.inject_css(\"https://cdn.pydata.org/bokeh/release/bokeh-1.0.4.min.css\");\n      console.log(\"Bokeh: injecting CSS: https://cdn.pydata.org/bokeh/release/bokeh-widgets-1.0.4.min.css\");\n      Bokeh.embed.inject_css(\"https://cdn.pydata.org/bokeh/release/bokeh-widgets-1.0.4.min.css\");\n      console.log(\"Bokeh: injecting CSS: https://cdn.pydata.org/bokeh/release/bokeh-tables-1.0.4.min.css\");\n      Bokeh.embed.inject_css(\"https://cdn.pydata.org/bokeh/release/bokeh-tables-1.0.4.min.css\");\n    }\n  ];\n\n  function run_inline_js() {\n    \n    if ((root.Bokeh !== undefined) || (force === true)) {\n      for (var i = 0; i < inline_js.length; i++) {\n        inline_js[i].call(root, root.Bokeh);\n      }if (force === true) {\n        display_loaded();\n      }} else if (Date.now() < root._bokeh_timeout) {\n      setTimeout(run_inline_js, 100);\n    } else if (!root._bokeh_failed_load) {\n      console.log(\"Bokeh: BokehJS failed to load within specified timeout.\");\n      root._bokeh_failed_load = true;\n    } else if (force !== true) {\n      var cell = $(document.getElementById(\"1252\")).parents('.cell').data().cell;\n      cell.output_area.append_execute_result(NB_LOAD_WARNING)\n    }\n\n  }\n\n  if (root._bokeh_is_loading === 0) {\n    console.log(\"Bokeh: BokehJS loaded, going straight to plotting\");\n    run_inline_js();\n  } else {\n    load_libs(js_urls, function() {\n      console.log(\"Bokeh: BokehJS plotting callback run at\", now());\n      run_inline_js();\n    });\n  }\n}(window));",
            "application/vnd.bokehjs_load.v0+json": "\n(function(root) {\n  function now() {\n    return new Date();\n  }\n\n  var force = true;\n\n  if (typeof (root._bokeh_onload_callbacks) === \"undefined\" || force === true) {\n    root._bokeh_onload_callbacks = [];\n    root._bokeh_is_loading = undefined;\n  }\n\n  \n\n  \n  if (typeof (root._bokeh_timeout) === \"undefined\" || force === true) {\n    root._bokeh_timeout = Date.now() + 5000;\n    root._bokeh_failed_load = false;\n  }\n\n  var NB_LOAD_WARNING = {'data': {'text/html':\n     \"<div style='background-color: #fdd'>\\n\"+\n     \"<p>\\n\"+\n     \"BokehJS does not appear to have successfully loaded. If loading BokehJS from CDN, this \\n\"+\n     \"may be due to a slow or bad network connection. Possible fixes:\\n\"+\n     \"</p>\\n\"+\n     \"<ul>\\n\"+\n     \"<li>re-rerun `output_notebook()` to attempt to load from CDN again, or</li>\\n\"+\n     \"<li>use INLINE resources instead, as so:</li>\\n\"+\n     \"</ul>\\n\"+\n     \"<code>\\n\"+\n     \"from bokeh.resources import INLINE\\n\"+\n     \"output_notebook(resources=INLINE)\\n\"+\n     \"</code>\\n\"+\n     \"</div>\"}};\n\n  function display_loaded() {\n    var el = document.getElementById(\"1252\");\n    if (el != null) {\n      el.textContent = \"BokehJS is loading...\";\n    }\n    if (root.Bokeh !== undefined) {\n      if (el != null) {\n        el.textContent = \"BokehJS \" + root.Bokeh.version + \" successfully loaded.\";\n      }\n    } else if (Date.now() < root._bokeh_timeout) {\n      setTimeout(display_loaded, 100)\n    }\n  }\n\n\n  function run_callbacks() {\n    try {\n      root._bokeh_onload_callbacks.forEach(function(callback) { callback() });\n    }\n    finally {\n      delete root._bokeh_onload_callbacks\n    }\n    console.info(\"Bokeh: all callbacks have finished\");\n  }\n\n  function load_libs(js_urls, callback) {\n    root._bokeh_onload_callbacks.push(callback);\n    if (root._bokeh_is_loading > 0) {\n      console.log(\"Bokeh: BokehJS is being loaded, scheduling callback at\", now());\n      return null;\n    }\n    if (js_urls == null || js_urls.length === 0) {\n      run_callbacks();\n      return null;\n    }\n    console.log(\"Bokeh: BokehJS not loaded, scheduling load and callback at\", now());\n    root._bokeh_is_loading = js_urls.length;\n    for (var i = 0; i < js_urls.length; i++) {\n      var url = js_urls[i];\n      var s = document.createElement('script');\n      s.src = url;\n      s.async = false;\n      s.onreadystatechange = s.onload = function() {\n        root._bokeh_is_loading--;\n        if (root._bokeh_is_loading === 0) {\n          console.log(\"Bokeh: all BokehJS libraries loaded\");\n          run_callbacks()\n        }\n      };\n      s.onerror = function() {\n        console.warn(\"failed to load library \" + url);\n      };\n      console.log(\"Bokeh: injecting script tag for BokehJS library: \", url);\n      document.getElementsByTagName(\"head\")[0].appendChild(s);\n    }\n  };var element = document.getElementById(\"1252\");\n  if (element == null) {\n    console.log(\"Bokeh: ERROR: autoload.js configured with elementid '1252' but no matching script tag was found. \")\n    return false;\n  }\n\n  var js_urls = [\"https://cdn.pydata.org/bokeh/release/bokeh-1.0.4.min.js\", \"https://cdn.pydata.org/bokeh/release/bokeh-widgets-1.0.4.min.js\", \"https://cdn.pydata.org/bokeh/release/bokeh-tables-1.0.4.min.js\", \"https://cdn.pydata.org/bokeh/release/bokeh-gl-1.0.4.min.js\"];\n\n  var inline_js = [\n    function(Bokeh) {\n      Bokeh.set_log_level(\"info\");\n    },\n    \n    function(Bokeh) {\n      \n    },\n    function(Bokeh) {\n      console.log(\"Bokeh: injecting CSS: https://cdn.pydata.org/bokeh/release/bokeh-1.0.4.min.css\");\n      Bokeh.embed.inject_css(\"https://cdn.pydata.org/bokeh/release/bokeh-1.0.4.min.css\");\n      console.log(\"Bokeh: injecting CSS: https://cdn.pydata.org/bokeh/release/bokeh-widgets-1.0.4.min.css\");\n      Bokeh.embed.inject_css(\"https://cdn.pydata.org/bokeh/release/bokeh-widgets-1.0.4.min.css\");\n      console.log(\"Bokeh: injecting CSS: https://cdn.pydata.org/bokeh/release/bokeh-tables-1.0.4.min.css\");\n      Bokeh.embed.inject_css(\"https://cdn.pydata.org/bokeh/release/bokeh-tables-1.0.4.min.css\");\n    }\n  ];\n\n  function run_inline_js() {\n    \n    if ((root.Bokeh !== undefined) || (force === true)) {\n      for (var i = 0; i < inline_js.length; i++) {\n        inline_js[i].call(root, root.Bokeh);\n      }if (force === true) {\n        display_loaded();\n      }} else if (Date.now() < root._bokeh_timeout) {\n      setTimeout(run_inline_js, 100);\n    } else if (!root._bokeh_failed_load) {\n      console.log(\"Bokeh: BokehJS failed to load within specified timeout.\");\n      root._bokeh_failed_load = true;\n    } else if (force !== true) {\n      var cell = $(document.getElementById(\"1252\")).parents('.cell').data().cell;\n      cell.output_area.append_execute_result(NB_LOAD_WARNING)\n    }\n\n  }\n\n  if (root._bokeh_is_loading === 0) {\n    console.log(\"Bokeh: BokehJS loaded, going straight to plotting\");\n    run_inline_js();\n  } else {\n    load_libs(js_urls, function() {\n      console.log(\"Bokeh: BokehJS plotting callback run at\", now());\n      run_inline_js();\n    });\n  }\n}(window));"
          },
          "metadata": {}
        },
        {
          "output_type": "execute_result",
          "execution_count": 210,
          "data": {
            "text/plain": "GlyphRenderer(id='1291', ...)",
            "text/html": "<div style=\"display: table;\"><div style=\"display: table-row;\"><div style=\"display: table-cell;\"><b title=\"bokeh.models.renderers.GlyphRenderer\">GlyphRenderer</b>(</div><div style=\"display: table-cell;\">id&nbsp;=&nbsp;'1291', <span id=\"1294\" style=\"cursor: pointer;\">&hellip;)</span></div></div><div class=\"1293\" style=\"display: none;\"><div style=\"display: table-cell;\"></div><div style=\"display: table-cell;\">data_source&nbsp;=&nbsp;ColumnDataSource(id='1253', ...),</div></div><div class=\"1293\" style=\"display: none;\"><div style=\"display: table-cell;\"></div><div style=\"display: table-cell;\">glyph&nbsp;=&nbsp;Circle(id='1289', ...),</div></div><div class=\"1293\" style=\"display: none;\"><div style=\"display: table-cell;\"></div><div style=\"display: table-cell;\">hover_glyph&nbsp;=&nbsp;None,</div></div><div class=\"1293\" style=\"display: none;\"><div style=\"display: table-cell;\"></div><div style=\"display: table-cell;\">js_event_callbacks&nbsp;=&nbsp;{},</div></div><div class=\"1293\" style=\"display: none;\"><div style=\"display: table-cell;\"></div><div style=\"display: table-cell;\">js_property_callbacks&nbsp;=&nbsp;{},</div></div><div class=\"1293\" style=\"display: none;\"><div style=\"display: table-cell;\"></div><div style=\"display: table-cell;\">level&nbsp;=&nbsp;'glyph',</div></div><div class=\"1293\" style=\"display: none;\"><div style=\"display: table-cell;\"></div><div style=\"display: table-cell;\">muted&nbsp;=&nbsp;False,</div></div><div class=\"1293\" style=\"display: none;\"><div style=\"display: table-cell;\"></div><div style=\"display: table-cell;\">muted_glyph&nbsp;=&nbsp;None,</div></div><div class=\"1293\" style=\"display: none;\"><div style=\"display: table-cell;\"></div><div style=\"display: table-cell;\">name&nbsp;=&nbsp;None,</div></div><div class=\"1293\" style=\"display: none;\"><div style=\"display: table-cell;\"></div><div style=\"display: table-cell;\">nonselection_glyph&nbsp;=&nbsp;Circle(id='1290', ...),</div></div><div class=\"1293\" style=\"display: none;\"><div style=\"display: table-cell;\"></div><div style=\"display: table-cell;\">selection_glyph&nbsp;=&nbsp;None,</div></div><div class=\"1293\" style=\"display: none;\"><div style=\"display: table-cell;\"></div><div style=\"display: table-cell;\">subscribed_events&nbsp;=&nbsp;[],</div></div><div class=\"1293\" style=\"display: none;\"><div style=\"display: table-cell;\"></div><div style=\"display: table-cell;\">tags&nbsp;=&nbsp;[],</div></div><div class=\"1293\" style=\"display: none;\"><div style=\"display: table-cell;\"></div><div style=\"display: table-cell;\">view&nbsp;=&nbsp;CDSView(id='1292', ...),</div></div><div class=\"1293\" style=\"display: none;\"><div style=\"display: table-cell;\"></div><div style=\"display: table-cell;\">visible&nbsp;=&nbsp;True,</div></div><div class=\"1293\" style=\"display: none;\"><div style=\"display: table-cell;\"></div><div style=\"display: table-cell;\">x_range_name&nbsp;=&nbsp;'default',</div></div><div class=\"1293\" style=\"display: none;\"><div style=\"display: table-cell;\"></div><div style=\"display: table-cell;\">y_range_name&nbsp;=&nbsp;'default')</div></div></div>\n<script>\n(function() {\n  var expanded = false;\n  var ellipsis = document.getElementById(\"1294\");\n  ellipsis.addEventListener(\"click\", function() {\n    var rows = document.getElementsByClassName(\"1293\");\n    for (var i = 0; i < rows.length; i++) {\n      var el = rows[i];\n      el.style.display = expanded ? \"none\" : \"table-row\";\n    }\n    ellipsis.innerHTML = expanded ? \"&hellip;)\" : \"&lsaquo;&lsaquo;&lsaquo;\";\n    expanded = !expanded;\n  });\n})();\n</script>\n"
          },
          "metadata": {}
        }
      ]
    },
    {
      "metadata": {
        "dc": {
          "key": "62"
        },
        "deletable": false,
        "editable": false,
        "run_control": {
          "frozen": true
        },
        "tags": [
          "context"
        ],
        "id": "ye0v9BHiNHDM"
      },
      "cell_type": "markdown",
      "source": [
        "## 9. Adding a hover tool\n",
        "<p>Why don't we add a hover tool? Adding a hover tool allows us to check the information of each item whenever the cursor is directly over a glyph. We'll add tooltips with each product's name, brand, price, and rank (i.e., rating).</p>"
      ]
    },
    {
      "metadata": {
        "dc": {
          "key": "62"
        },
        "tags": [
          "sample_code"
        ],
        "trusted": true,
        "id": "F-sZIClhNHDN"
      },
      "cell_type": "code",
      "source": [
        "# Create a HoverTool object\n",
        "hover = HoverTool(tooltips = [('Item', '@Name'),\n",
        "                              ('Brand', '@Brand'),\n",
        "                              ('Price', '$@Price'),\n",
        "                             ('Rank', '@Rank')])\n",
        "plot.add_tools(hover)"
      ],
      "execution_count": null,
      "outputs": []
    },
    {
      "metadata": {
        "dc": {
          "key": "69"
        },
        "deletable": false,
        "editable": false,
        "run_control": {
          "frozen": true
        },
        "tags": [
          "context"
        ],
        "id": "0pUEbmAVNHDN"
      },
      "cell_type": "markdown",
      "source": [
        "## 10. Mapping the cosmetic items\n",
        "<p>Finally, it's show time! Let's see how the map we've made looks like. Each point on the plot corresponds to the cosmetic items. Then what do the axes mean here? The axes of a t-SNE plot aren't easily interpretable in terms of the original data. Like mentioned above, t-SNE is a visualizing technique to plot high-dimensional data in a low-dimensional space. Therefore, it's not desirable to interpret a t-SNE plot quantitatively.</p>\n",
        "<p>Instead, what we can get from this map is the distance between the points (which items are close and which are far apart). The closer the distance between the two items is, the more similar the composition they have. Therefore this enables us to compare the items without having any chemistry background.</p>"
      ]
    },
    {
      "metadata": {
        "dc": {
          "key": "69"
        },
        "tags": [
          "sample_code"
        ],
        "trusted": true,
        "id": "qb-8V77_NHDN",
        "outputId": "349bb0bf-4d8f-430a-cd5b-7d54822cf1ba"
      },
      "cell_type": "code",
      "source": [
        "# Plot the map\n",
        "show()"
      ],
      "execution_count": null,
      "outputs": [
        {
          "output_type": "error",
          "ename": "AttributeError",
          "evalue": "'Figure' object has no attribute 'show'",
          "traceback": [
            "---------------------------------------------------------------------------",
            "AttributeError                            Traceback (most recent call last)",
            "<ipython-input-215-3bf2700a0999> in <module>\n      1 # Plot the map\n----> 2 plot.show()\n",
            "AttributeError: 'Figure' object has no attribute 'show'"
          ]
        }
      ]
    },
    {
      "metadata": {
        "dc": {
          "key": "76"
        },
        "deletable": false,
        "editable": false,
        "run_control": {
          "frozen": true
        },
        "tags": [
          "context"
        ],
        "id": "FjrzEDu2NHDO"
      },
      "cell_type": "markdown",
      "source": [
        "## 11. Comparing two products\n",
        "<p>Since there are so many cosmetics and so many ingredients, the plot doesn't have many super obvious patterns that simpler t-SNE plots can have (<a href=\"https://campus.datacamp.com/courses/unsupervised-learning-in-python/visualization-with-hierarchical-clustering-and-t-sne?ex=10\">example</a>). Our plot requires some digging to find insights, but that's okay!</p>\n",
        "<p>Say we enjoyed a specific product, there's an increased chance we'd enjoy another product that is similar in chemical composition.  Say we enjoyed AmorePacific's <a href=\"https://www.sephora.com/product/color-control-cushion-compact-broad-spectrum-spf-50-P378121\">Color Control Cushion Compact Broad Spectrum SPF 50+</a>. We could find this product on the plot and see if a similar product(s) exist. And it turns out it does! If we look at the points furthest left on the plot, we see  LANEIGE's <a href=\"https://www.sephora.com/product/bb-cushion-hydra-radiance-P420676\">BB Cushion Hydra Radiance SPF 50</a> essentially overlaps with the AmorePacific product. By looking at the ingredients, we can visually confirm the compositions of the products are similar (<em>though it is difficult to do, which is why we did this analysis in the first place!</em>), plus LANEIGE's version is $22 cheaper and actually has higher ratings.</p>\n",
        "<p>It's not perfect, but it's useful. In real life, we can actually use our little ingredient-based recommendation engine help us make educated cosmetic purchase choices.</p>"
      ]
    },
    {
      "metadata": {
        "dc": {
          "key": "76"
        },
        "tags": [
          "sample_code"
        ],
        "trusted": true,
        "id": "cQ3NduH0NHDO"
      },
      "cell_type": "code",
      "source": [
        "# Print the ingredients of two similar cosmetics\n",
        "cosmetic_1 = moisturizers_dry[moisturizers_dry['Name'] == \"Color Control Cushion Compact Broad Spectrum SPF 50+\"]\n",
        "cosmetic_2 = moisturizers_dry[moisturizers_dry['Name'] == \"BB Cushion Hydra Radiance SPF 50\"]\n",
        "\n",
        "# Display each item's data and ingredients\n",
        "display(cosmetic_1)\n",
        "print(cosmetic_1.Ingredients.values)\n",
        "display(cosmetic_2)\n",
        "print(cosmetic_2.Ingredients.values)"
      ],
      "execution_count": null,
      "outputs": []
    }
  ],
  "metadata": {
    "kernelspec": {
      "name": "python3",
      "display_name": "Python 3",
      "language": "python"
    },
    "language_info": {
      "name": "python",
      "version": "3.6.7",
      "mimetype": "text/x-python",
      "codemirror_mode": {
        "name": "ipython",
        "version": 3
      },
      "pygments_lexer": "ipython3",
      "nbconvert_exporter": "python",
      "file_extension": ".py"
    },
    "colab": {
      "name": "notebook.ipynb",
      "provenance": [],
      "include_colab_link": true
    }
  },
  "nbformat": 4,
  "nbformat_minor": 0
}